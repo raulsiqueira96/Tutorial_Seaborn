{
 "cells": [
  {
   "cell_type": "markdown",
   "id": "fe0cf63a",
   "metadata": {},
   "source": [
    "# Prática de Seaborn para visualizacao de dados\n",
    "\n",
    "Site do Seaborn: https://seaborn.pydata.org/\n",
    "\n",
    "Seaborn é uma biblioteca para fazer gráficos estatísticos em Python. Ele se baseia no matplotlib e se integra intimamente às estruturas de dados do pandas.\n",
    "\n",
    "Seaborn ajuda você a explorar e compreender seus dados. Suas funções de plotagem operam em dataframes e arrays contendo conjuntos de dados inteiros e realizam internamente o mapeamento semântico e agregação estatística necessários para produzir gráficos informativos. Sua API declarativa orientada a conjuntos de dados permite que você se concentre no significado dos diferentes elementos de seus gráficos, em vez de nos detalhes de como desenhá-los."
   ]
  },
  {
   "cell_type": "code",
   "execution_count": 1,
   "id": "ae28d15d",
   "metadata": {},
   "outputs": [],
   "source": [
    "# importar as bibliotecas necessárias\n"
   ]
  },
  {
   "cell_type": "code",
   "execution_count": 2,
   "id": "8c02cae4",
   "metadata": {},
   "outputs": [],
   "source": [
    "# Importar as bases de dados que iremos usar nesse tutorial\n"
   ]
  },
  {
   "cell_type": "code",
   "execution_count": 3,
   "id": "80f6ec10",
   "metadata": {},
   "outputs": [],
   "source": [
    "# Checar primeiras linhas dos arquivos\n"
   ]
  },
  {
   "cell_type": "markdown",
   "id": "a2da66b0",
   "metadata": {},
   "source": [
    "### Graficos Relacionais:\n",
    "Estes tipos de gráficos sao utilizados para analisar a relacao entre as informacoes das bases de dados,\n",
    "\n",
    "- Gráfico de dispersão - Scatter Plot\n",
    "- Gráficos de linha - Line Plots"
   ]
  },
  {
   "cell_type": "markdown",
   "id": "49fbfb4d",
   "metadata": {},
   "source": [
    "## Gráfico de dispersao - Scatter Plot\n",
    "\n",
    "Esse tipo de gráfico é muito bom para visualizar as relacoes entre duas variáveis numéricas.\n",
    "<br>\n",
    "sns.scatterplot(data, x, y, hue, style, palette, size, sizes, legend, markers...) ou também sns.relplot()"
   ]
  },
  {
   "cell_type": "code",
   "execution_count": 4,
   "id": "3e349a80",
   "metadata": {},
   "outputs": [],
   "source": [
    "# Plotar um gráfico para ver o quanto as pessoas estao pagando de acordo com a idade.\n",
    "\n"
   ]
  },
  {
   "cell_type": "code",
   "execution_count": 5,
   "id": "d02d67da-2ac1-485e-ae6b-f828bedabea2",
   "metadata": {},
   "outputs": [],
   "source": [
    "# Mudar o tamanho do grafico\n",
    "\n",
    "# Comando para alterar o tamanho do grafico\n"
   ]
  },
  {
   "cell_type": "code",
   "execution_count": 6,
   "id": "123c3ccd-7ff8-4e30-a8f0-34a9585c27a4",
   "metadata": {},
   "outputs": [],
   "source": [
    "# Escolhendo o estilo do gráfico (darkgrid, whitegrid, dark, white e ticks) \n",
    "\n"
   ]
  },
  {
   "cell_type": "code",
   "execution_count": 7,
   "id": "12e06d39",
   "metadata": {},
   "outputs": [],
   "source": [
    "# Nós podemos usar o parametro 'hue' para ver mais uma variável\n",
    "# Plotar um gráfico para checar o quanto as pessoas estavam pagando de acordo com a sua idade e genero.\n",
    "\n"
   ]
  },
  {
   "cell_type": "code",
   "execution_count": 8,
   "id": "5259acbf",
   "metadata": {},
   "outputs": [],
   "source": [
    "# Podemos mudar os marcadores de um gráfico de acordo com um parametro.\n",
    "# Neste exemplo iremos alterar o estilo do marcador de acordo com a classe da passagem\n",
    "# Vamos plotar um gráfico para entender quanto as pessoas estavam pagando de acordo com a sua idade e com a classe escolhida.\n",
    "\n"
   ]
  },
  {
   "cell_type": "markdown",
   "id": "57d2ba6a",
   "metadata": {},
   "source": [
    "## Gráficos de Linha - Line plots\n",
    "\n",
    "Gráficos de linha sao ótimos para analizar as mudancas em uma variável em respeito a outro, como por exemplo, o tempo, entender como uma variável se comporta em relacao ao tempo.\n",
    "\n",
    "<br>\n",
    "Para criar gráficos de linha no Seaborn, nós iremos utilizar sns.relplot(), com o parametro 'kind' como 'line'.\n",
    "Por exemplo, nós podemos criar um grafico de dispersao mudando o tipo no sns.relplot() para 'scatter'."
   ]
  },
  {
   "cell_type": "code",
   "execution_count": null,
   "id": "f1649f4f",
   "metadata": {},
   "outputs": [],
   "source": [
    "# Plotar gráfico de linha para checar a quantidade de passageiros voaram com o tempo.\n",
    "\n"
   ]
  },
  {
   "cell_type": "code",
   "execution_count": 10,
   "id": "ff9da648",
   "metadata": {},
   "outputs": [],
   "source": [
    "# Plotar um gráfico para checar o quanto foi a evolucao da quantidade de passageiros que voaram desde 1940.\n",
    "\n"
   ]
  },
  {
   "cell_type": "markdown",
   "id": "7daeb52b",
   "metadata": {},
   "source": [
    "### Essa cor azul clara no fundo da linha se chama 'intervalo de confianca' (confidence interval)'. \n",
    "<br>\n",
    "Esse fundo é importante quando estamos plotando um gráfico de um modelo machine learning com as nossas previsoes, isso quer dizer que o resultado estará entre esse espaco.\n",
    "\n",
    "Nós podemos remove-lo usando \"errorbar=None\""
   ]
  },
  {
   "cell_type": "code",
   "execution_count": 11,
   "id": "19169103",
   "metadata": {},
   "outputs": [],
   "source": [
    "# Vamos plotar o mesmo gráfico de passageiros por mes, mas sem o intervalo de confianca.\n",
    "\n"
   ]
  },
  {
   "cell_type": "markdown",
   "id": "86641326",
   "metadata": {},
   "source": [
    "### É possível também adicionar mais de um gráfico de acordo com um terceiro parametro adicionando 'col'"
   ]
  },
  {
   "cell_type": "code",
   "execution_count": 12,
   "id": "282f3e1c",
   "metadata": {},
   "outputs": [],
   "source": [
    "# Plotar um gráfico par analisar as gorjetas de acordo com o valor total da conta e se a pessoas era fumante ou nao  \n",
    "\n",
    "\n",
    "# Agora plotar a mesma informacao, porem de acordo com o horário da refeicao\n",
    "\n"
   ]
  },
  {
   "cell_type": "markdown",
   "id": "75c3b2a9",
   "metadata": {},
   "source": [
    "### Este tipo de gráfico é importante para entender as várias relacoes que podemos ter usando diferentes variáveis e analisar como elas variam de acordo com cada cenário."
   ]
  },
  {
   "cell_type": "markdown",
   "id": "6ffadaee",
   "metadata": {},
   "source": [
    "------------------"
   ]
  },
  {
   "cell_type": "markdown",
   "id": "220050ad",
   "metadata": {},
   "source": [
    "## Gráficos de Distribuicao - Distribution Plots\n",
    "\n",
    "Esses tipos de gráficos são usados para mostrar como as informações estão espalhadas. Quando entendemos como os dados estão organizados, podemos descobrir a faixa de valores que eles abrangem, qual é o valor que costuma ser mais comum e se eles estão mais inclinados para um lado. Também é possível identificar valores que são diferentes dos outros, chamados de \"valores discrepantes\n",
    "\n",
    "Funcoes dos Gráficos de Distribuicao:\n",
    "\n",
    "1. **displot()**: Mostra como seus números estão espalhados, como uma montanha de valores.\n",
    "2. **jointplot()**: Combina duas informações diferentes em um gráfico para ver se estão conectadas.\n",
    "3. **pairplot()**: Compara muitas informações diferentes entre si em vários gráficos.\n",
    "4. **rugplot()**: Coloca marcas onde os números estão em um tapete para mostrar concentrações.\n",
    "5. **kdeplot()**: Cria uma curva suave que dá uma ideia de como seus números estão organizados.\n"
   ]
  },
  {
   "cell_type": "markdown",
   "id": "aba5d9a7",
   "metadata": {},
   "source": [
    "### Plotando histogrames com distplot() e histplot()\n",
    "\n",
    "Histograma é um gráfico de barras cujo eixo x é uma variável ou recurso e o eixo y é a contagem de valores dessa variável específica. Por padrão, displot() cria um o histograma."
   ]
  },
  {
   "cell_type": "code",
   "execution_count": 13,
   "id": "078d7d00",
   "metadata": {},
   "outputs": [],
   "source": [
    "# Plotar histograma para ver a distribuicao de idade no titanic\n",
    "\n"
   ]
  },
  {
   "cell_type": "markdown",
   "id": "040c71bb",
   "metadata": {},
   "source": [
    "### O histplot() tambem pode ser usado para exibir dados categóricos.\n",
    "\n",
    "Dados categóricos são como etiquetas que classificam as coisas em grupos.<br> \n",
    "É como dividir as coisas em diferentes categorias, como cores, tipos de animais ou sabores de sorvete.<br> \n",
    "Esses dados não têm números ou valores, mas são usados para dizer qual grupo algo pertence. Por exemplo, se você está listando as cores favoritas das pessoas, os dados categóricos seriam os nomes das cores (vermelho, azul, verde) em vez de números.<br> São como rótulos que ajudam a organizar e entender diferentes grupos de coisas."
   ]
  },
  {
   "cell_type": "code",
   "execution_count": 14,
   "id": "01ac9d59",
   "metadata": {},
   "outputs": [],
   "source": [
    "# Plotar um gráfico de distribuicao de acordo com o dia da semana \n",
    "\n"
   ]
  },
  {
   "cell_type": "markdown",
   "id": "9ca0990a",
   "metadata": {},
   "source": [
    "### Assim como os gráficos relacionais, podemos inserir mais parametros para analisar melhor a distribuicao"
   ]
  },
  {
   "cell_type": "code",
   "execution_count": 15,
   "id": "53f5ccc0",
   "metadata": {},
   "outputs": [],
   "source": [
    "# Plotar um gráfico onde vemos a distribuicao da idade dos passageiros do titanic, de acordo com sua classe.\n",
    "\n"
   ]
  },
  {
   "cell_type": "code",
   "execution_count": 16,
   "id": "f4fb103c",
   "metadata": {},
   "outputs": [],
   "source": [
    "# Plotar um gráfico onde vemos a distribuicao da idade dos passageiros do titanic, de acordo com seu genero.\n",
    "\n"
   ]
  },
  {
   "cell_type": "markdown",
   "id": "ba6ede7a",
   "metadata": {},
   "source": [
    "## Gráficos Categóricos\n",
    "\n",
    "Os gráficos categóricos são usados para visualizar dados em categorias.\n",
    "\n",
    "No Seaborn, existem várias funções de gráficos que veremos:\n",
    "\n",
    "Gráficos de estimativas categóricas\n",
    "\n",
    "- **barplot()**: Mostra barras que representam a média de uma categoria.\n",
    "- **countplot()**: Conta quantas vezes cada categoria aparece.\n",
    "- **pointplot()**: Mostra pontos para comparar diferentes categorias.\n",
    "\n",
    "Gráficos de distribuição categórica\n",
    "\n",
    "- **boxplot()**: Mostra como os valores estão espalhados em uma categoria.\n",
    "- **boxenplot()**: É como o boxplot, mas mostra mais detalhes.\n",
    "- **violinplot()**: Mostra a distribuição dos valores de uma categoria.\n",
    "\n",
    "Gráficos de dispersão categórica\n",
    "\n",
    "- **stripplot()**: Mostra pontos para cada valor, empilhados em categorias.\n",
    "- **swarmplot()**: Mostra pontos de forma mais organizada que o stripplot.\n",
    "\n",
    "Assim como vimos nos gráficos de distribuição, o Seaborn também oferece uma função de alto nível chamada catplot() para plotar todos esses tipos acima. Você só precisa passar o parâmetro \"kind\". Na ordem em que estão listados acima, aqui estão os valores do parâmetro \"kind\": bar, count, point, box, boxen, violin, strip, swarm."
   ]
  },
  {
   "cell_type": "code",
   "execution_count": 17,
   "id": "741af96c",
   "metadata": {},
   "outputs": [],
   "source": [
    "# Ao inves de escrevermos sns.tipografico, podemos usar sns.catplot e no argumento 'kind' passar o tipo do grafico\n",
    "# Plotar um gráfico de barras para a base titanic, onde o eixo x é o genero e o y é sobreviveram ou nao, e divida por classe.\n",
    "\n"
   ]
  },
  {
   "cell_type": "code",
   "execution_count": 18,
   "id": "1e70e6ad",
   "metadata": {},
   "outputs": [],
   "source": [
    "# Countplot\n"
   ]
  },
  {
   "cell_type": "markdown",
   "id": "fe1d1512-f6ec-4a96-a8b0-8851e5411230",
   "metadata": {},
   "source": [
    "# Por hoje é isso, nos vemos na próxima  :)"
   ]
  },
  {
   "cell_type": "code",
   "execution_count": null,
   "id": "8062f969-4da4-4eca-8201-e3c39541e5b7",
   "metadata": {},
   "outputs": [],
   "source": []
  }
 ],
 "metadata": {
  "kernelspec": {
   "display_name": "Python 3 (ipykernel)",
   "language": "python",
   "name": "python3"
  },
  "language_info": {
   "codemirror_mode": {
    "name": "ipython",
    "version": 3
   },
   "file_extension": ".py",
   "mimetype": "text/x-python",
   "name": "python",
   "nbconvert_exporter": "python",
   "pygments_lexer": "ipython3",
   "version": "3.9.7"
  }
 },
 "nbformat": 4,
 "nbformat_minor": 5
}
